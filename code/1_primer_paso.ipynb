{
  "nbformat": 4,
  "nbformat_minor": 0,
  "metadata": {
    "colab": {
      "provenance": []
    },
    "kernelspec": {
      "name": "python3",
      "display_name": "Python 3"
    },
    "language_info": {
      "name": "python"
    }
  },
  "cells": [
    {
      "cell_type": "code",
      "execution_count": 1,
      "metadata": {
        "colab": {
          "base_uri": "https://localhost:8080/"
        },
        "id": "jEmtoZvJr1kC",
        "outputId": "1c815a45-9146-43b9-924a-2c6d9694be3f"
      },
      "outputs": [
        {
          "output_type": "stream",
          "name": "stdout",
          "text": [
            "Clases disponibles: ['Rain', 'Sunrise', 'Cloudy', 'Shine']\n",
            "Cantidad de imágenes por clase: {'Rain': 215, 'Sunrise': 357, 'Cloudy': 300, 'Shine': 253}\n",
            "Tamaño de imagen: (680, 455)\n"
          ]
        }
      ],
      "source": [
        "import os\n",
        "from collections import Counter\n",
        "from PIL import Image\n",
        "\n",
        "#dataset_path = r\"C:\\Users\\bra\\OneDrive - Universidad de Antioquia\\Documentos\\inteligencia\\archive\\Multi-class Weather Dataset\"\n",
        "dataset_path = r\"/content/drive/MyDrive/fic/proyecto/Multi-class Weather Dataset\"\n",
        "#/content/drive/MyDrive/fic/proyecto/Multi-class Weather Dataset\n",
        "classes = os.listdir(dataset_path)\n",
        "conteo = {clase: len(os.listdir(os.path.join(dataset_path, clase))) for clase in classes}\n",
        "\n",
        "print(\"Clases disponibles:\", classes)\n",
        "print(\"Cantidad de imágenes por clase:\", conteo)\n",
        "\n",
        "# Ver una imagen de muestra\n",
        "sample_path = os.path.join(dataset_path, classes[0], os.listdir(os.path.join(dataset_path, classes[0]))[0])\n",
        "img = Image.open(sample_path)\n",
        "print(\"Tamaño de imagen:\", img.size)"
      ]
    }
  ]
}