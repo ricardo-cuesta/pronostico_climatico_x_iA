{
  "nbformat": 4,
  "nbformat_minor": 0,
  "metadata": {
    "colab": {
      "provenance": []
    },
    "kernelspec": {
      "name": "python3",
      "display_name": "Python 3"
    },
    "language_info": {
      "name": "python"
    }
  },
  "cells": [
    {
      "cell_type": "code",
      "execution_count": null,
      "metadata": {
        "colab": {
          "base_uri": "https://localhost:8080/"
        },
        "id": "dHfbmBc32kq0",
        "outputId": "be0cc92f-85ff-40e7-b8f3-c21a29260138"
      },
      "outputs": [
        {
          "output_type": "stream",
          "name": "stdout",
          "text": [
            "✅ CSV generado con 1113 imágenes y 111 características:\n",
            "/content/drive/MyDrive/fic/proyecto/dataset_balanceado/caracteristicas_300.csv\n"
          ]
        }
      ],
      "source": [
        "import os\n",
        "import numpy as np\n",
        "import pandas as pd\n",
        "from PIL import Image\n",
        "from scipy.stats import skew, kurtosis\n",
        "from skimage.color import rgb2gray, rgb2hsv\n",
        "from skimage.feature import graycomatrix, graycoprops\n",
        "from skimage.filters import sobel\n",
        "from skimage.measure import shannon_entropy\n",
        "from skimage.util import img_as_ubyte\n",
        "\n",
        "def extract_image_features(image_path, class_name, class_index):\n",
        "    features = {\n",
        "        \"filename\": os.path.basename(image_path),\n",
        "        \"class\": class_name,\n",
        "        \"class_index\": class_index\n",
        "    }\n",
        "\n",
        "    try:\n",
        "        img = Image.open(image_path).convert(\"RGB\")\n",
        "        np_img = np.array(img)\n",
        "        height, width, _ = np_img.shape\n",
        "        features.update({\n",
        "            \"width\": width,\n",
        "            \"height\": height,\n",
        "            \"aspect_ratio\": round(width / height, 2),\n",
        "            \"is_square\": width == height\n",
        "        })\n",
        "\n",
        "        # Color RGB\n",
        "        for i, ch_name in enumerate(['R', 'G', 'B']):\n",
        "            ch = np_img[:, :, i].flatten()\n",
        "            features[f\"mean_{ch_name}\"] = np.mean(ch)\n",
        "            features[f\"std_{ch_name}\"] = np.std(ch)\n",
        "            features[f\"min_{ch_name}\"] = np.min(ch)\n",
        "            features[f\"max_{ch_name}\"] = np.max(ch)\n",
        "            features[f\"skew_{ch_name}\"] = skew(ch)\n",
        "            features[f\"kurt_{ch_name}\"] = kurtosis(ch)\n",
        "            hist, _ = np.histogram(ch, bins=16, range=(0, 255), density=True)\n",
        "            for j, val in enumerate(hist):\n",
        "                features[f\"hist_{ch_name}_{j}\"] = round(val, 5)\n",
        "\n",
        "        # Color HSV\n",
        "        hsv = rgb2hsv(np_img)\n",
        "        for i, ch_name in enumerate(['H', 'S', 'V']):\n",
        "            ch = hsv[:, :, i].flatten()\n",
        "            features[f\"mean_{ch_name}\"] = np.mean(ch)\n",
        "            features[f\"std_{ch_name}\"] = np.std(ch)\n",
        "            features[f\"skew_{ch_name}\"] = skew(ch)\n",
        "            features[f\"kurt_{ch_name}\"] = kurtosis(ch)\n",
        "\n",
        "        # Escala de grises\n",
        "        gray = rgb2gray(np_img)\n",
        "        gray_u8 = img_as_ubyte(gray)\n",
        "        features[\"entropy\"] = shannon_entropy(gray)\n",
        "        features[\"sobel\"] = np.mean(sobel(gray))\n",
        "\n",
        "        # GLCM\n",
        "        glcm = graycomatrix(gray_u8, distances=[1], angles=[0, np.pi/4, np.pi/2, 3*np.pi/4],\n",
        "                            symmetric=True, normed=True)\n",
        "        for prop in ['contrast', 'dissimilarity', 'homogeneity', 'energy', 'correlation', 'ASM']:\n",
        "            vals = graycoprops(glcm, prop)[0]\n",
        "            for i, angle in enumerate([\"0\", \"45\", \"90\", \"135\"]):\n",
        "                features[f\"{prop}_{angle}\"] = round(vals[i], 5)\n",
        "\n",
        "    except Exception as e:\n",
        "        print(f\"❌ Error en {image_path}: {e}\")\n",
        "\n",
        "    return features\n",
        "\n",
        "# 📁 Ruta a tu dataset balanceado (ajústala)\n",
        "#dataset_path = r\"C:\\Users\\bra\\OneDrive - Universidad de Antioquia\\Documentos\\inteligencia\\dataset_balanceado\"\n",
        "\n",
        "dataset_path = r\"/content/drive/MyDrive/fic/proyecto/dataset_balanceado\"\n",
        "\n",
        "# Crear CSV con características\n",
        "dataset = []\n",
        "class_names = sorted(os.listdir(dataset_path))\n",
        "class_map = {name: idx for idx, name in enumerate(class_names)}\n",
        "\n",
        "for class_name in class_names:\n",
        "    class_dir = os.path.join(dataset_path, class_name)\n",
        "    for fname in os.listdir(class_dir):\n",
        "        if fname.lower().endswith(('.jpg', '.jpeg', '.png')):\n",
        "            img_path = os.path.join(class_dir, fname)\n",
        "            feats = extract_image_features(img_path, class_name, class_map[class_name])\n",
        "            dataset.append(feats)\n",
        "\n",
        "df = pd.DataFrame(dataset)\n",
        "output_csv = os.path.join(dataset_path, \"caracteristicas_300.csv\")\n",
        "df.to_csv(output_csv, index=False)\n",
        "\n",
        "print(f\"✅ CSV generado con {len(df)} imágenes y {df.shape[1]} características:\")\n",
        "print(output_csv)"
      ]
    }
  ]
}