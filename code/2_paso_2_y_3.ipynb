{
  "nbformat": 4,
  "nbformat_minor": 0,
  "metadata": {
    "colab": {
      "provenance": []
    },
    "kernelspec": {
      "name": "python3",
      "display_name": "Python 3"
    },
    "language_info": {
      "name": "python"
    }
  },
  "cells": [
    {
      "cell_type": "code",
      "execution_count": null,
      "metadata": {
        "colab": {
          "base_uri": "https://localhost:8080/"
        },
        "id": "3MwavfVfruJq",
        "outputId": "123e8d56-24c5-485d-f792-4737e919c2de"
      },
      "outputs": [
        {
          "output_type": "stream",
          "name": "stdout",
          "text": [
            "➕ Generando 135 imágenes para clase 'Rain'...\n",
            "✅ Sunrise ya tiene 357 imágenes (OK)\n",
            "➕ Generando 50 imágenes para clase 'Cloudy'...\n",
            "➕ Generando 97 imágenes para clase 'Shine'...\n"
          ]
        }
      ],
      "source": [
        "import os\n",
        "import random\n",
        "import shutil\n",
        "from tensorflow.keras.preprocessing.image import ImageDataGenerator, load_img, img_to_array\n",
        "\n",
        "# === CONFIGURACIÓN ===\n",
        "\n",
        "#input_dir = r\"C:\\Users\\bra\\OneDrive - Universidad de Antioquia\\Documentos\\inteligencia\\archive\\Multi-class Weather Dataset\"\n",
        "input_dir = r\"/content/drive/MyDrive/fic/proyecto/Multi-class Weather Dataset\"\n",
        "#output_dir = r\"C:\\Users\\bra\\OneDrive - Universidad de Antioquia\\Documentos\\inteligencia\\dataset_balanceado\"\n",
        "output_dir = r\"/content/drive/MyDrive/fic/proyecto/dataset_balanceado\"\n",
        "os.makedirs(output_dir, exist_ok=True)\n",
        "\n",
        "# Meta por clase (mínimo y máximo)\n",
        "target_min = 350\n",
        "target_max = 400\n",
        "\n",
        "# === GENERADOR DE AUMENTO ===\n",
        "\n",
        "datagen = ImageDataGenerator(\n",
        "    rotation_range=20,\n",
        "    width_shift_range=0.1,\n",
        "    height_shift_range=0.1,\n",
        "    zoom_range=0.1,\n",
        "    horizontal_flip=True,\n",
        "    fill_mode='nearest'\n",
        ")\n",
        "\n",
        "# === COPIA TODAS LAS IMÁGENES ORIGINALES ===\n",
        "\n",
        "for class_name in os.listdir(input_dir):\n",
        "    src_class_path = os.path.join(input_dir, class_name)\n",
        "    dst_class_path = os.path.join(output_dir, class_name)\n",
        "    os.makedirs(dst_class_path, exist_ok=True)\n",
        "\n",
        "    for fname in os.listdir(src_class_path):\n",
        "        shutil.copy2(os.path.join(src_class_path, fname), dst_class_path)\n",
        "\n",
        "# === AUMENTAR CLASES NECESARIAS (USANDO IMÁGENES ALEATORIAS) ===\n",
        "\n",
        "for class_name in os.listdir(input_dir):\n",
        "    class_input_path = os.path.join(input_dir, class_name)\n",
        "    class_output_path = os.path.join(output_dir, class_name)\n",
        "\n",
        "    original_images = os.listdir(class_input_path)\n",
        "    original_count = len(original_images)\n",
        "\n",
        "    if original_count >= target_min:\n",
        "        print(f\"✅ {class_name} ya tiene {original_count} imágenes (OK)\")\n",
        "        continue\n",
        "\n",
        "    to_generate = target_min - original_count\n",
        "    print(f\"➕ Generando {to_generate} imágenes para clase '{class_name}'...\")\n",
        "\n",
        "    generated = 0\n",
        "    while generated < to_generate:\n",
        "        random.shuffle(original_images)  # Mezcla aleatoriamente la lista de imágenes\n",
        "\n",
        "        for img_name in original_images:\n",
        "            img_path = os.path.join(class_input_path, img_name)\n",
        "\n",
        "            try:\n",
        "                img = load_img(img_path)\n",
        "                x = img_to_array(img)\n",
        "                x = x.reshape((1,) + x.shape)\n",
        "\n",
        "                for batch in datagen.flow(x, batch_size=1,\n",
        "                                          save_to_dir=class_output_path,\n",
        "                                          save_prefix='aug',\n",
        "                                          save_format='jpg'):\n",
        "                    generated += 1\n",
        "                    break  # solo una imagen por batch\n",
        "\n",
        "                if generated >= to_generate:\n",
        "                    break\n",
        "\n",
        "            except Exception as e:\n",
        "                print(f\"Error con {img_path}: {e}\")\n",
        "\n",
        "print(\"🎯 Aumento completado con imágenes aleatorias.\")"
      ]
    }
  ]
}