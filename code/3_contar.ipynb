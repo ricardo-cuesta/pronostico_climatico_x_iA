{
  "nbformat": 4,
  "nbformat_minor": 0,
  "metadata": {
    "colab": {
      "provenance": []
    },
    "kernelspec": {
      "name": "python3",
      "display_name": "Python 3"
    },
    "language_info": {
      "name": "python"
    }
  },
  "cells": [
    {
      "cell_type": "code",
      "execution_count": null,
      "metadata": {
        "colab": {
          "base_uri": "https://localhost:8080/"
        },
        "id": "OAS5kqQxrUVY",
        "outputId": "d0040cdd-f87b-4e89-9446-ae98543573d1"
      },
      "outputs": [
        {
          "output_type": "stream",
          "name": "stdout",
          "text": [
            "📊 Distribución final de imágenes por clase:\n",
            "\n",
            "🔹 Cloudy: 349 imágenes\n",
            "🔹 Rain: 541 imágenes\n",
            "🔹 Shine: 444 imágenes\n",
            "🔹 Sunrise: 357 imágenes\n",
            "\n",
            "✅ Total de imágenes en el dataset: 1691\n"
          ]
        }
      ],
      "source": [
        "import os\n",
        "\n",
        "# Ruta al dataset balanceado\n",
        "#dataset_path = r\"C:\\Users\\bra\\OneDrive - Universidad de Antioquia\\Documentos\\inteligencia\\dataset_balanceado\"\n",
        "dataset_path = r\"/content/drive/MyDrive/fic/proyecto/dataset_balanceado\"\n",
        "print(\"📊 Distribución final de imágenes por clase:\\n\")\n",
        "\n",
        "total_imagenes = 0\n",
        "\n",
        "for class_name in sorted(os.listdir(dataset_path)):\n",
        "    class_dir = os.path.join(dataset_path, class_name)\n",
        "    if os.path.isdir(class_dir):\n",
        "        num_images = len([\n",
        "            fname for fname in os.listdir(class_dir)\n",
        "            if fname.lower().endswith(('.jpg', '.jpeg', '.png'))\n",
        "        ])\n",
        "        total_imagenes += num_images\n",
        "        print(f\"🔹 {class_name}: {num_images} imágenes\")\n",
        "\n",
        "print(f\"\\n✅ Total de imágenes en el dataset: {total_imagenes}\")\n"
      ]
    },
    {
      "cell_type": "code",
      "source": [],
      "metadata": {
        "id": "IgsxmgX6rYB8"
      },
      "execution_count": null,
      "outputs": []
    },
    {
      "cell_type": "code",
      "source": [],
      "metadata": {
        "id": "Qhrm8T-irX-y"
      },
      "execution_count": null,
      "outputs": []
    },
    {
      "cell_type": "code",
      "source": [],
      "metadata": {
        "id": "WJgaunGHrX8F"
      },
      "execution_count": null,
      "outputs": []
    },
    {
      "cell_type": "code",
      "source": [],
      "metadata": {
        "id": "lxrXUM1NrX41"
      },
      "execution_count": null,
      "outputs": []
    }
  ]
}